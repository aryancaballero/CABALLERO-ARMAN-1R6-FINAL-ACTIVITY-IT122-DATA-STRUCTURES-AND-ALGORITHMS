{
 "cells": [
  {
   "cell_type": "code",
   "execution_count": 1,
   "id": "earlier-belly",
   "metadata": {},
   "outputs": [
    {
     "name": "stdout",
     "output_type": "stream",
     "text": [
      "CHAPTER I LEARNINGS ON CHAPTER 9-17\n"
     ]
    }
   ],
   "source": [
    "print(\"CHAPTER I LEARNINGS ON CHAPTER 9-17\")"
   ]
  },
  {
   "cell_type": "code",
   "execution_count": 1,
   "id": "electric-feelings",
   "metadata": {},
   "outputs": [
    {
     "name": "stdout",
     "output_type": "stream",
     "text": [
      "Data structure and Algorithm Chapter 9 Graph Introduction\n"
     ]
    }
   ],
   "source": [
    "print(\"Data structure and Algorithm Chapter 9 Graph Introduction\") "
   ]
  },
  {
   "cell_type": "code",
   "execution_count": 10,
   "id": "weekly-philosophy",
   "metadata": {},
   "outputs": [
    {
     "name": "stdout",
     "output_type": "stream",
     "text": [
      "For my observation, I've learned that in Graph introduction have two graphs first is undirected graphs and the second one is direct graph\n"
     ]
    }
   ],
   "source": [
    "print(\"For my observation, I've learned that in Graph introduction have two graphs first is undirected graphs and the second one is direct graph\")"
   ]
  },
  {
   "cell_type": "code",
   "execution_count": 13,
   "id": "taken-coordinator",
   "metadata": {},
   "outputs": [
    {
     "name": "stdout",
     "output_type": "stream",
     "text": [
      "First, Undirected graph is a graph in which edges have no orientation. The edge (x, y) is identical to the edge (y, x). That is, they are not ordered pairs, but unordered pairs, sets of two vertices {x, y} or 2-multisets in the case of loops. The maximum number of edges in an undirected graph without a loop is n(n − 1)/2.For any edge u and v in an undirected graph, we call u a neighbor of v and vice versa. The degree of a node is its number of neighbors. In directed graphs, we have two kinds of neighbors. For any directed edge u — >v, we call u a predecessor of v and v a successor of u.\n"
     ]
    }
   ],
   "source": [
    "print(\"First, Undirected graph is a graph in which edges have no orientation. The edge (x, y) is identical to the edge (y, x). That is, they are not ordered pairs, but unordered pairs, sets of two vertices {x, y} or 2-multisets in the case of loops. The maximum number of edges in an undirected graph without a loop is n(n − 1)/2.For any edge u and v in an undirected graph, we call u a neighbor of v and vice versa. The degree of a node is its number of neighbors. In directed graphs, we have two kinds of neighbors. For any directed edge u — >v, we call u a predecessor of v and v a successor of u.\")"
   ]
  },
  {
   "cell_type": "code",
   "execution_count": 11,
   "id": "junior-pledge",
   "metadata": {},
   "outputs": [
    {
     "name": "stdout",
     "output_type": "stream",
     "text": [
      "Direct Graphs are used to solve many real-life problems. Graphs are used to represent networks. For example, The networks may include paths in a city or telephone network or circuit network. Graphs are also used in social networks like linkedIn, Facebook. For example, in Facebook, each person is represented with a vertex(or node). Each node is a structure and contains information like person id, name, gender, locale etc.\n"
     ]
    }
   ],
   "source": [
    "print(\"Direct Graphs are used to solve many real-life problems. Graphs are used to represent networks. For example, The networks may include paths in a city or telephone network or circuit network. Graphs are also used in social networks like linkedIn, Facebook. For example, in Facebook, each person is represented with a vertex(or node). Each node is a structure and contains information like person id, name, gender, locale etc.\")"
   ]
  },
  {
   "cell_type": "code",
   "execution_count": 12,
   "id": "interior-denmark",
   "metadata": {},
   "outputs": [
    {
     "name": "stdout",
     "output_type": "stream",
     "text": [
      "Data structure and Algorithm Chapter 10: Binary search \n"
     ]
    }
   ],
   "source": [
    "print(\"Data structure and Algorithm Chapter 10: Binary search \")"
   ]
  },
  {
   "cell_type": "code",
   "execution_count": 14,
   "id": "threaded-terry",
   "metadata": {},
   "outputs": [
    {
     "name": "stdout",
     "output_type": "stream",
     "text": [
      "In general, I have learned about binary search is that the left sub-tree contains only nodes with keys less than the node and the right sub-tree contains only nodes with keys greater than the parent node.the main function of the program contains several do-while loops, with calls to various other functions, in order to provide a menu-based interface, for user functionality.\n"
     ]
    }
   ],
   "source": [
    "print(\"In general, I have learned about binary search is that the left sub-tree contains only nodes with keys less than the node and the right sub-tree contains only nodes with keys greater than the parent node.the main function of the program contains several do-while loops, with calls to various other functions, in order to provide a menu-based interface, for user functionality.\")"
   ]
  },
  {
   "cell_type": "code",
   "execution_count": 18,
   "id": "homeless-coaching",
   "metadata": {},
   "outputs": [
    {
     "name": "stdout",
     "output_type": "stream",
     "text": [
      "Overall, According to bartleby, 'the program implements numerous functions, including “createBST,” “createHeap,” “buildHeap,” “disPreOrder,” “disLevelOrder,” “searchBST,” “searchHeap,” “insertBST,” “insertHeap,” “createHeapInsertionList,” “addHeapInsertionList,” “enQueue,” “deQueue,” and “isEmpty.” Regarding time complexity, the “createBST” function contains a single for-loop, in order to insert a specified number of nodes'.\n"
     ]
    }
   ],
   "source": [
    "print(\"Overall, According to bartleby, 'the program implements numerous functions, including “createBST,” “createHeap,” “buildHeap,” “disPreOrder,” “disLevelOrder,” “searchBST,” “searchHeap,” “insertBST,” “insertHeap,” “createHeapInsertionList,” “addHeapInsertionList,” “enQueue,” “deQueue,” and “isEmpty.” Regarding time complexity, the “createBST” function contains a single for-loop, in order to insert a specified number of nodes'.\")"
   ]
  },
  {
   "cell_type": "code",
   "execution_count": 16,
   "id": "private-scene",
   "metadata": {
    "scrolled": true
   },
   "outputs": [
    {
     "name": "stdout",
     "output_type": "stream",
     "text": [
      "While the “dispPreOrder” function, only executes once per call, recursively, the “dispPreOrder” function is required to execute “N” times, where “N” represents the quantity of nodes necessary for processing through the function. Therefore, the “dispPreOrder” function contains an order of “N,” or “O(N)” in Big O notation. Moreover, the “dispLevelOrder” function contains one while-loop, so as to construct a queue of nodes, by level, so as to develop a traversal by each level of the tree-like structure. With one while-loop, and calls to the “enQueue,” “deQueue,” and “isEmpty” functions, the “dispLevelOrder” function executes, or conducts iterations a complete of “N” times, where “N” represents the quantity of iterations through the while-loop. Therefore, the “dispLevelOrder” function contains an order of “N,” or “O(N)” in Big O notation. The “searchBST” function is implemented as a recursive function, ransacking through an already-constructed a binary tree. In relevancy a binary search tree, the “searchBST” function executes one time per call, but executes “log2N” times, because the searching work is partitioned. Therefore, the “searchBST” function contains an order of “log2N,” or “O(log2N)” in Big O notation.\n"
     ]
    }
   ],
   "source": [
    "print(\"While the “dispPreOrder” function, only executes once per call, recursively, the “dispPreOrder” function is required to execute “N” times, where “N” represents the quantity of nodes necessary for processing through the function. Therefore, the “dispPreOrder” function contains an order of “N,” or “O(N)” in Big O notation. Moreover, the “dispLevelOrder” function contains one while-loop, so as to construct a queue of nodes, by level, so as to develop a traversal by each level of the tree-like structure. With one while-loop, and calls to the “enQueue,” “deQueue,” and “isEmpty” functions, the “dispLevelOrder” function executes, or conducts iterations a complete of “N” times, where “N” represents the quantity of iterations through the while-loop. Therefore, the “dispLevelOrder” function contains an order of “N,” or “O(N)” in Big O notation. The “searchBST” function is implemented as a recursive function, ransacking through an already-constructed a binary tree. In relevancy a binary search tree, the “searchBST” function executes one time per call, but executes “log2N” times, because the searching work is partitioned. Therefore, the “searchBST” function contains an order of “log2N,” or “O(log2N)” in Big O notation.\")"
   ]
  },
  {
   "cell_type": "code",
   "execution_count": 19,
   "id": "pressed-cleaning",
   "metadata": {},
   "outputs": [
    {
     "name": "stdout",
     "output_type": "stream",
     "text": [
      "Since each comparison binary search uses halves the search space, we can assert and easily prove that binary search will never use more than (in big-oh notation) O(log N) comparisons to find the target value.\n"
     ]
    }
   ],
   "source": [
    "print(\"Since each comparison binary search uses halves the search space, we can assert and easily prove that binary search will never use more than (in big-oh notation) O(log N) comparisons to find the target value.\")"
   ]
  },
  {
   "cell_type": "code",
   "execution_count": 20,
   "id": "afraid-knitting",
   "metadata": {},
   "outputs": [
    {
     "name": "stdout",
     "output_type": "stream",
     "text": [
      "Data structure and Algorithm Chapter 11: Bubble Sort\n"
     ]
    }
   ],
   "source": [
    "print(\"Data structure and Algorithm Chapter 11: Bubble Sort\")"
   ]
  },
  {
   "cell_type": "code",
   "execution_count": 21,
   "id": "sorted-richmond",
   "metadata": {},
   "outputs": [
    {
     "name": "stdout",
     "output_type": "stream",
     "text": [
      "What i have learned from Bubble sort is that i think this is simplest code or sorting algorithm that i tested so far,which is employed to sort a given set of n elements provided in variety of an array with n number of elements. Bubble Sort compares all the element one by one and type them supported their values. If the given array must be sorted in ascending order, then bubble sort will start by comparing the primary element of the array with the second element, if the primary element is larger than the second element, it'll swap both the weather, then locomote to match the second and also the third element, and so on.Sorting takes place by stepping through all the weather one-by-one and comparing it with the adjacent element and swapping them if required. \n"
     ]
    }
   ],
   "source": [
    "print(\"What i have learned from Bubble sort is that i think this is simplest code or sorting algorithm that i tested so far,which is employed to sort a given set of n elements provided in variety of an array with n number of elements. Bubble Sort compares all the element one by one and type them supported their values. If the given array must be sorted in ascending order, then bubble sort will start by comparing the primary element of the array with the second element, if the primary element is larger than the second element, it'll swap both the weather, then locomote to match the second and also the third element, and so on.Sorting takes place by stepping through all the weather one-by-one and comparing it with the adjacent element and swapping them if required. \")"
   ]
  },
  {
   "cell_type": "code",
   "execution_count": 23,
   "id": "other-ozone",
   "metadata": {},
   "outputs": [
    {
     "name": "stdout",
     "output_type": "stream",
     "text": [
      "Lastly, for exampleFirst Pass:( 5 1 4 2 8 ) –> ( 1 5 4 2 8 ), Here, algorithm compares the first two elements, and swaps since 5 > 1.( 1 5 4 2 8 ) –>  ( 1 4 5 2 8 ), Swap since 5 > 4 ( 1 4 5 2 8 ) –>  ( 1 4 2 5 8 ), Swap since 5 > 2 ( 1 4 2 5 8 ) –> ( 1 4 2 5 8 ), Now, since these elements are already in order (8 > 5), algorithm does not swap them.Second Pass: ( 1 4 2 5 8 ) –> ( 1 4 2 5 8 ) ( 1 4 2 5 8 ) –> ( 1 2 4 5 8 ), Swap since 4 > 2 ( 1 2 4 5 8 ) –> ( 1 2 4 5 8 ) ( 1 2 4 5 8 ) –>  ( 1 2 4 5 8 ) Now, the array is already sorted, but our algorithm does not know if it is completed. The algorithm needs one whole pass without any swap to know it is sorted. Third Pass: ( 1 2 4 5 8 ) –> ( 1 2 4 5 8 ) ( 1 2 4 5 8 ) –> ( 1 2 4 5 8 ) ( 1 2 4 5 8 ) –> ( 1 2 4 5 8 ) ( 1 2 4 5 8 ) –> ( 1 2 4 5 8 ) \n"
     ]
    }
   ],
   "source": [
    "print(\"Lastly, for exampleFirst Pass:( 5 1 4 2 8 ) –> ( 1 5 4 2 8 ), Here, algorithm compares the first two elements, and swaps since 5 > 1.( 1 5 4 2 8 ) –>  ( 1 4 5 2 8 ), Swap since 5 > 4 ( 1 4 5 2 8 ) –>  ( 1 4 2 5 8 ), Swap since 5 > 2 ( 1 4 2 5 8 ) –> ( 1 4 2 5 8 ), Now, since these elements are already in order (8 > 5), algorithm does not swap them.Second Pass: ( 1 4 2 5 8 ) –> ( 1 4 2 5 8 ) ( 1 4 2 5 8 ) –> ( 1 2 4 5 8 ), Swap since 4 > 2 ( 1 2 4 5 8 ) –> ( 1 2 4 5 8 ) ( 1 2 4 5 8 ) –>  ( 1 2 4 5 8 ) Now, the array is already sorted, but our algorithm does not know if it is completed. The algorithm needs one whole pass without any swap to know it is sorted. Third Pass: ( 1 2 4 5 8 ) –> ( 1 2 4 5 8 ) ( 1 2 4 5 8 ) –> ( 1 2 4 5 8 ) ( 1 2 4 5 8 ) –> ( 1 2 4 5 8 ) ( 1 2 4 5 8 ) –> ( 1 2 4 5 8 ) \")"
   ]
  },
  {
   "cell_type": "code",
   "execution_count": 24,
   "id": "collaborative-brother",
   "metadata": {},
   "outputs": [
    {
     "name": "stdout",
     "output_type": "stream",
     "text": [
      "Data structure and Algorithm Chapter 12: Quick sort\n"
     ]
    }
   ],
   "source": [
    "print(\"Data structure and Algorithm Chapter 12: Quick sort\")"
   ]
  },
  {
   "cell_type": "code",
   "execution_count": 25,
   "id": "solved-biology",
   "metadata": {},
   "outputs": [
    {
     "name": "stdout",
     "output_type": "stream",
     "text": [
      "I learned in chapter 12 is like merge sort, because QuickSort is a Divide and Conquer algorithm. It picks an element as pivot and partitions the given array around the picked pivot.\n"
     ]
    }
   ],
   "source": [
    "print(\"I learned in chapter 12 is like merge sort, because QuickSort is a Divide and Conquer algorithm. It picks an element as pivot and partitions the given array around the picked pivot.\")"
   ]
  },
  {
   "cell_type": "code",
   "execution_count": 27,
   "id": "remarkable-segment",
   "metadata": {},
   "outputs": [
    {
     "name": "stdout",
     "output_type": "stream",
     "text": [
      "And then I also learned about the key process in quickSort is partition(). Target of partitions is, given an array and a component x of array as pivot, put x at its correct position in sorted array and put all smaller elements (smaller than x) before x, and put all greater elements (greater than x) after x. All this could be exhausted linear time. he key process in quickSort is partition(). Target of partitions is, given an array and a component x of array as pivot, put x at its correct position in sorted array and put all smaller elements (smaller than x) before x, and put all greater elements (greater than x) after x. All this could be exhausted linear time. In simple QuickSort algorithm, we select an element as pivot, partition the array around pivot and recur for subarrays on left and right of pivot. Consider an array which has many redundant elements. For example, {1, 4, 2, 4, 2, 4, 1, 2, 4, 1, 2, 2, 2, 2, 4, 1, 4, 4, 4}. If 4 is picked as pivot in Simple QuickSort, we fix only one 4 and recursively process remaining occurrences.  \n"
     ]
    }
   ],
   "source": [
    "print(\"And then I also learned about the key process in quickSort is partition(). Target of partitions is, given an array and a component x of array as pivot, put x at its correct position in sorted array and put all smaller elements (smaller than x) before x, and put all greater elements (greater than x) after x. All this could be exhausted linear time. he key process in quickSort is partition(). Target of partitions is, given an array and a component x of array as pivot, put x at its correct position in sorted array and put all smaller elements (smaller than x) before x, and put all greater elements (greater than x) after x. All this could be exhausted linear time. In simple QuickSort algorithm, we select an element as pivot, partition the array around pivot and recur for subarrays on left and right of pivot. Consider an array which has many redundant elements. For example, {1, 4, 2, 4, 2, 4, 1, 2, 4, 1, 2, 2, 2, 2, 4, 1, 4, 4, 4}. If 4 is picked as pivot in Simple QuickSort, we fix only one 4 and recursively process remaining occurrences.  \")"
   ]
  },
  {
   "cell_type": "code",
   "execution_count": 1,
   "id": "prompt-expansion",
   "metadata": {},
   "outputs": [
    {
     "name": "stdout",
     "output_type": "stream",
     "text": [
      "Data structure and Algorithm Chapter 13: Insertion sort\n"
     ]
    }
   ],
   "source": [
    "print(\"Data structure and Algorithm Chapter 13: Insertion sort\")"
   ]
  },
  {
   "cell_type": "code",
   "execution_count": 7,
   "id": "positive-establishment",
   "metadata": {},
   "outputs": [
    {
     "name": "stdout",
     "output_type": "stream",
     "text": [
      "I learned a lot in chapter 13, because sorting is the process of arranging a listing of elements in an exceedingly particular order (Ascending or Descending). Insertion sort algorithm arranges an inventory of elements in an exceedingly particular order. In insertion sort algorithm, every iteration moves a component from unsorted portion to sorted portion until all the weather are sorted within the list. Also I learned the step by step process of insertion sort algorithm, First is assume that first element within the list is in sorted portion and every one the remaining elements are in unsorted portion.The other is take first element from the unsorted portion and insert that element into the sorted portion within the order specified and also the third is repeat the above process until all the weather from the unsorted portion are moved into the sorted portion.\n"
     ]
    }
   ],
   "source": [
    "print(\"I learned a lot in chapter 13, because sorting is the process of arranging a listing of elements in an exceedingly particular order (Ascending or Descending). Insertion sort algorithm arranges an inventory of elements in an exceedingly particular order. In insertion sort algorithm, every iteration moves a component from unsorted portion to sorted portion until all the weather are sorted within the list. Also I learned the step by step process of insertion sort algorithm, First is assume that first element within the list is in sorted portion and every one the remaining elements are in unsorted portion.The other is take first element from the unsorted portion and insert that element into the sorted portion within the order specified and also the third is repeat the above process until all the weather from the unsorted portion are moved into the sorted portion.\")"
   ]
  },
  {
   "cell_type": "code",
   "execution_count": 9,
   "id": "prospective-width",
   "metadata": {},
   "outputs": [
    {
     "name": "stdout",
     "output_type": "stream",
     "text": [
      "For my example, 12, 11, 13, 5, 6 Let us loop for i = 1 (second element of the array) to 4 (last element of the array)i = 1. Since 11 is smaller than 12, move 12 and insert 11 before 12 11, 12, 13, 5, 6i = 2. 13 will remain at its position as all elements in A[0..I-1] are smaller than 13 11, 12, 13, 5, 6i = 3. 5 will move to the beginning and all other elements from 11 to 13 will move one position ahead of their current position. 5, 11, 12, 13, 6i = 4. 6 will move to position after 5, and elements from 11 to 13 will move one position ahead of their current position. 5, 6, 11, 12, 13\n"
     ]
    }
   ],
   "source": [
    "print(\"For my example, 12, 11, 13, 5, 6 Let us loop for i = 1 (second element of the array) to 4 (last element of the array)i = 1. Since 11 is smaller than 12, move 12 and insert 11 before 12 11, 12, 13, 5, 6i = 2. 13 will remain at its position as all elements in A[0..I-1] are smaller than 13 11, 12, 13, 5, 6i = 3. 5 will move to the beginning and all other elements from 11 to 13 will move one position ahead of their current position. 5, 11, 12, 13, 6i = 4. 6 will move to position after 5, and elements from 11 to 13 will move one position ahead of their current position. 5, 6, 11, 12, 13\")"
   ]
  },
  {
   "cell_type": "code",
   "execution_count": 10,
   "id": "executed-eligibility",
   "metadata": {},
   "outputs": [
    {
     "name": "stdout",
     "output_type": "stream",
     "text": [
      "Data structure and Algorithm Chapter 14: Merge sort\n"
     ]
    }
   ],
   "source": [
    "print(\"Data structure and Algorithm Chapter 14: Merge sort\")"
   ]
  },
  {
   "cell_type": "code",
   "execution_count": 11,
   "id": "respected-burst",
   "metadata": {},
   "outputs": [
    {
     "name": "stdout",
     "output_type": "stream",
     "text": [
      "what i have learned in merge sort is it is based on the principle of divide and conquer algorithm,where Divide is the given problem into sub-problems using recursion. Conquer, Solve the smaller sub-problems recursively. If the subproblem is small enough, then solve it directly. \n"
     ]
    }
   ],
   "source": [
    "print(\"what i have learned in merge sort is it is based on the principle of divide and conquer algorithm,where Divide is the given problem into sub-problems using recursion. Conquer, Solve the smaller sub-problems recursively. If the subproblem is small enough, then solve it directly. \")"
   ]
  },
  {
   "cell_type": "code",
   "execution_count": 12,
   "id": "latest-smile",
   "metadata": {},
   "outputs": [
    {
     "name": "stdout",
     "output_type": "stream",
     "text": [
      "And then I also that merge sort is more efficient and works faster than quick sort in case of larger array size or datasets.Unlike to Quick sort is more efficient and works faster than merge sort in case of smaller array size or datasets. This is because it divides the array into two halves and applies merge sort algorithm to each half individually after which the two sorted halves are merged together.I also learned that using the divide and conquer paradigm is that it allows us to solve difficult problems, it helps discover efficient algorithms, and they make efficient use of memory caches. \n"
     ]
    }
   ],
   "source": [
    "print(\"And then I also that merge sort is more efficient and works faster than quick sort in case of larger array size or datasets.Unlike to Quick sort is more efficient and works faster than merge sort in case of smaller array size or datasets. This is because it divides the array into two halves and applies merge sort algorithm to each half individually after which the two sorted halves are merged together.I also learned that using the divide and conquer paradigm is that it allows us to solve difficult problems, it helps discover efficient algorithms, and they make efficient use of memory caches. \")"
   ]
  },
  {
   "cell_type": "code",
   "execution_count": 1,
   "id": "finite-lexington",
   "metadata": {},
   "outputs": [
    {
     "name": "stdout",
     "output_type": "stream",
     "text": [
      "Data structure and Algorithm Chapter 15: Shell sort\n"
     ]
    }
   ],
   "source": [
    "print(\"Data structure and Algorithm Chapter 15: Shell sort\")"
   ]
  },
  {
   "cell_type": "code",
   "execution_count": 3,
   "id": "shaped-pointer",
   "metadata": {},
   "outputs": [
    {
     "name": "stdout",
     "output_type": "stream",
     "text": [
      "What i have learned in shell sort is Shell Sort is a generalisation of Insertion Sort. Unlike Insertion Sort, instead of comparing contiguous items, it breaks the master list into several sub-lists using an interval i (which is known as the gap), then sorts the sub-lists with Insertion Sort.his algorithm uses insertion sort on a widely spread elements, first to sort them and then sorts the less widely spaced elements. This spacing is termed as interval and then, Insertion sort does not perform well when the close elements are far apart. Shell sort helps in reducing the distance between the close elements. Thus, there will be less number of swappings to be performed. \n"
     ]
    }
   ],
   "source": [
    "print(\"What i have learned in shell sort is Shell Sort is a generalisation of Insertion Sort. Unlike Insertion Sort, instead of comparing contiguous items, it breaks the master list into several sub-lists using an interval i (which is known as the gap), then sorts the sub-lists with Insertion Sort.his algorithm uses insertion sort on a widely spread elements, first to sort them and then sorts the less widely spaced elements. This spacing is termed as interval and then, Insertion sort does not perform well when the close elements are far apart. Shell sort helps in reducing the distance between the close elements. Thus, there will be less number of swappings to be performed. \")"
   ]
  },
  {
   "cell_type": "code",
   "execution_count": 5,
   "id": "australian-junction",
   "metadata": {},
   "outputs": [
    {
     "name": "stdout",
     "output_type": "stream",
     "text": [
      "The idea of shellSort is to permit exchange of far items. In shellSort, we make the array h-sorted for an outsized value of h. We keep reducing the worth of h until it becomes 1. An array is claimed to be h-sorted if all sublists of each h’th element is sorted. For example,we use the increment sequence 3, 1 to sort the elements 5, 4, 3, 2, 1. For the increment 3, the subsequences are 5, 2; 4, 1; and 3. Sorting these subsequences using the insertion sort method yields 2, 1, 3, 5, 4. The next and final increment to use is 1. Sorting with this increment results in the sorted sequence 1, 2, 3, 4, 5.\n"
     ]
    }
   ],
   "source": [
    "print(\"The idea of shellSort is to permit exchange of far items. In shellSort, we make the array h-sorted for an outsized value of h. We keep reducing the worth of h until it becomes 1. An array is claimed to be h-sorted if all sublists of each h’th element is sorted. For example,we use the increment sequence 3, 1 to sort the elements 5, 4, 3, 2, 1. For the increment 3, the subsequences are 5, 2; 4, 1; and 3. Sorting these subsequences using the insertion sort method yields 2, 1, 3, 5, 4. The next and final increment to use is 1. Sorting with this increment results in the sorted sequence 1, 2, 3, 4, 5.\")"
   ]
  },
  {
   "cell_type": "code",
   "execution_count": null,
   "id": "concerned-collaboration",
   "metadata": {},
   "outputs": [],
   "source": [
    "print(\"Data structure and Algorithm Chapter 16: Selection sort\")"
   ]
  },
  {
   "cell_type": "code",
   "execution_count": 6,
   "id": "organic-lighter",
   "metadata": {},
   "outputs": [
    {
     "name": "stdout",
     "output_type": "stream",
     "text": [
      "In selection sort, the primary element within the list is chosen and it's compared repeatedly with all the remaining elements within the list. If any element is smaller than the chosen element (for Ascending order), then both are swapped so first position is stuffed with the littlest element within the sorted order. Next, we select the element at a second position within the list and it's compared with all the remaining elements within the list. If any element is smaller than the chosen element, then both are swapped. This procedure is repeated until the whole list is sorted.\n"
     ]
    }
   ],
   "source": [
    "print(\"In selection sort, the primary element within the list is chosen and it's compared repeatedly with all the remaining elements within the list. If any element is smaller than the chosen element (for Ascending order), then both are swapped so first position is stuffed with the littlest element within the sorted order. Next, we select the element at a second position within the list and it's compared with all the remaining elements within the list. If any element is smaller than the chosen element, then both are swapped. This procedure is repeated until the whole list is sorted.\")"
   ]
  },
  {
   "cell_type": "code",
   "execution_count": 7,
   "id": "marked-battlefield",
   "metadata": {},
   "outputs": [
    {
     "name": "stdout",
     "output_type": "stream",
     "text": [
      "Also i learned the step by step process of selection sort, first is  Select the first element of the list (i.e., Element at first position in the list),second is compare the selected element with all the other elements in the list and third is In every comparision, if any element is found smaller than the selected element (for Ascending order), then both are swapped.and lastly repeat the same procedure with element in the next position in the list till the entire list is sorted. \n"
     ]
    }
   ],
   "source": [
    "print(\"Also i learned the step by step process of selection sort, first is  Select the first element of the list (i.e., Element at first position in the list),second is compare the selected element with all the other elements in the list and third is In every comparision, if any element is found smaller than the selected element (for Ascending order), then both are swapped.and lastly repeat the same procedure with element in the next position in the list till the entire list is sorted. \")"
   ]
  },
  {
   "cell_type": "code",
   "execution_count": 8,
   "id": "upset-amateur",
   "metadata": {},
   "outputs": [
    {
     "name": "stdout",
     "output_type": "stream",
     "text": [
      "Data structure and Algorithm Chapter 17: Simple Explanation of Recursion\n"
     ]
    }
   ],
   "source": [
    "print(\"Data structure and Algorithm Chapter 17: Simple Explanation of Recursion\")"
   ]
  },
  {
   "cell_type": "code",
   "execution_count": 9,
   "id": "equal-phoenix",
   "metadata": {},
   "outputs": [
    {
     "name": "stdout",
     "output_type": "stream",
     "text": [
      "What I have learned in recursion is it is a process in which a function calls itself directly or indirectly is called recursion and the corresponding function is called as recursive function. Using recursive algorithm, certain problems can be solved quite easil   \n"
     ]
    }
   ],
   "source": [
    "print(\"What I have learned in recursion is it is a process in which a function calls itself directly or indirectly is called recursion and the corresponding function is called as recursive function. Using recursive algorithm, certain problems can be solved quite easily   \")"
   ]
  },
  {
   "cell_type": "code",
   "execution_count": 10,
   "id": "guilty-walker",
   "metadata": {},
   "outputs": [
    {
     "name": "stdout",
     "output_type": "stream",
     "text": [
      "Recursion is made for solving problems that can be broken down into smaller, repetitive problems. It is especially good for working on things that have many possible branches and are too complex for an iterative approach. One good example of this would be searching through a file system. You could start at the root folder, and then you could search through all the files and folders within that one. After that, you would enter each folder and search through each folder inside of that. AndRecursion works well for this type of structure because you can search multiple branching paths without having to include many different checks and conditions for every possibility. \n"
     ]
    }
   ],
   "source": [
    "print(\"Recursion is made for solving problems that can be broken down into smaller, repetitive problems. It is especially good for working on things that have many possible branches and are too complex for an iterative approach. One good example of this would be searching through a file system. You could start at the root folder, and then you could search through all the files and folders within that one. After that, you would enter each folder and search through each folder inside of that. AndRecursion works well for this type of structure because you can search multiple branching paths without having to include many different checks and conditions for every possibility. \")"
   ]
  },
  {
   "cell_type": "code",
   "execution_count": 2,
   "id": "downtown-variable",
   "metadata": {},
   "outputs": [
    {
     "name": "stdout",
     "output_type": "stream",
     "text": [
      "CHAPTER II QUESTIONS\n"
     ]
    }
   ],
   "source": [
    "print(\"CHAPTER II QUESTIONS\")"
   ]
  },
  {
   "cell_type": "code",
   "execution_count": 1,
   "id": "alternative-custom",
   "metadata": {},
   "outputs": [
    {
     "name": "stdout",
     "output_type": "stream",
     "text": [
      "Answer the following questions:\n"
     ]
    }
   ],
   "source": [
    "print(\"Answer the following questions:\")"
   ]
  },
  {
   "cell_type": "code",
   "execution_count": 2,
   "id": "local-michigan",
   "metadata": {},
   "outputs": [
    {
     "name": "stdout",
     "output_type": "stream",
     "text": [
      "1. Implement the simple methods get_num and get_den that will return the numerator and denominator of a fraction\n"
     ]
    }
   ],
   "source": [
    "print(\"1. Implement the simple methods get_num and get_den that will return the numerator and denominator of a fraction\")"
   ]
  },
  {
   "cell_type": "code",
   "execution_count": 4,
   "id": "molecular-salmon",
   "metadata": {},
   "outputs": [
    {
     "ename": "SyntaxError",
     "evalue": "EOL while scanning string literal (<ipython-input-4-5e070ddce41e>, line 1)",
     "output_type": "error",
     "traceback": [
      "\u001b[1;36m  File \u001b[1;32m\"<ipython-input-4-5e070ddce41e>\"\u001b[1;36m, line \u001b[1;32m1\u001b[0m\n\u001b[1;33m    print(\"class Fraction:\u001b[0m\n\u001b[1;37m                          ^\u001b[0m\n\u001b[1;31mSyntaxError\u001b[0m\u001b[1;31m:\u001b[0m EOL while scanning string literal\n"
     ]
    }
   ],
   "source": [
    "class Fraction:\n",
    "\n",
    "    def __init__(self, top, bottom):\n",
    "\n",
    "        self.num = top        # the numerator is on top\n",
    "        self.den = bottom     # the denominator is on the bottom\n",
    "\n",
    "    def __str__(self):\n",
    "        return str(self.num) + \"/\" + str(self.den)\n",
    "\n",
    "    def getNum(self):\n",
    "        return self.num\n",
    "\n",
    "    def getDen(self):\n",
    "        return self.den\n",
    "\n",
    "myfraction = Fraction(3, 4)\n",
    "print(myfraction)\n",
    "\n",
    "print(myfraction.getNum())\n",
    "print(myfraction.getDen())"
   ]
  },
  {
   "cell_type": "code",
   "execution_count": 7,
   "id": "mighty-cassette",
   "metadata": {},
   "outputs": [
    {
     "name": "stdout",
     "output_type": "stream",
     "text": [
      "2.Research the __radd__ method. How does it differ from __add__?When is it used? Implement __radd.\n"
     ]
    }
   ],
   "source": [
    "print(\"2.Research the __radd__ method. How does it differ from __add__?When is it used? Implement __radd.\")"
   ]
  },
  {
   "cell_type": "code",
   "execution_count": 8,
   "id": "micro-roman",
   "metadata": {},
   "outputs": [
    {
     "name": "stdout",
     "output_type": "stream",
     "text": [
      "3. Research the _repr_ method. How does it differ from _str_? When is it used? Implement _repr_\n"
     ]
    }
   ],
   "source": [
    "print(\"3. Research the _repr_ method. How does it differ from _str_? When is it used? Implement _repr_\")"
   ]
  },
  {
   "cell_type": "code",
   "execution_count": 9,
   "id": "alike-immunology",
   "metadata": {},
   "outputs": [
    {
     "name": "stdout",
     "output_type": "stream",
     "text": [
      "4. The most simple arithmetic circuit is known as the half adder. Research the simple half-adder circuit. Implement this circuit.\n"
     ]
    }
   ],
   "source": [
    "print(\"4. The most simple arithmetic circuit is known as the half adder. Research the simple half-adder circuit. Implement this circuit.\")"
   ]
  },
  {
   "cell_type": "code",
   "execution_count": 10,
   "id": "macro-legend",
   "metadata": {},
   "outputs": [
    {
     "name": "stdout",
     "output_type": "stream",
     "text": [
      "5. Design a class to represent a playing card and another one to represent a deck of cards. Using these two classes, implement your favorite card game.\n"
     ]
    }
   ],
   "source": [
    "print(\"5. Design a class to represent a playing card and another one to represent a deck of cards. Using these two classes, implement your favorite card game.\")"
   ]
  },
  {
   "cell_type": "code",
   "execution_count": null,
   "id": "occupied-somalia",
   "metadata": {},
   "outputs": [],
   "source": [
    "import turtle\n",
    "import time\n",
    "import random\n",
    "\n",
    "wn = turtle.Screen()\n",
    "wn.bgcolor(\"black\")\n",
    "wn.setup(800, 600)\n",
    "wn.title(\"Deck of Cards Simulator\")\n",
    "\n",
    "pen = turtle.Turtle()\n",
    "pen.speed(0)\n",
    "pen.hideturtle()\n",
    "\n",
    "\n",
    "# Create classes\n",
    "class Card():\n",
    "    def __init__(self, name, suit):\n",
    "        self.name = name\n",
    "        self.suit = suit\n",
    "        self.symbols = {\"D\":\"♦\", \"C\":\"♣\", \"H\":\"♥\", \"S\":\"♠\"}\n",
    "        \n",
    "    def print_card(self):\n",
    "        print(f\"{self.name}{self.symbols[self.suit]}\")\n",
    "        \n",
    "    def render(self, x, y, pen):\n",
    "        # Draw border\n",
    "        pen.penup()\n",
    "        pen.goto(x, y)\n",
    "        pen.color(\"blue\")\n",
    "        pen.goto(x-50, y+75)\n",
    "        pen.begin_fill()\n",
    "        pen.pendown()\n",
    "        pen.goto(x+50, y+75)\n",
    "        pen.goto(x+50, y-75)\n",
    "        pen.goto(x-50, y-75)\n",
    "        pen.goto(x-50, y+75)\n",
    "        pen.end_fill()\n",
    "        pen.penup()\n",
    "        \n",
    "        if self.name != \"\":\n",
    "            # Draw suit in the middle\n",
    "            pen.color(\"white\")\n",
    "            pen.goto(x-18, y-30)\n",
    "            pen.write(self.symbols[self.suit], False, font=(\"Courier New\", 48, \"normal\"))\n",
    "            \n",
    "            # Draw top left \n",
    "            pen.goto(x-40, y+45)\n",
    "            pen.write(self.name, False, font=(\"Courier New\", 18, \"normal\"))\n",
    "            pen.goto(x-40, y+25)\n",
    "            pen.write(self.symbols[self.suit], False, font=(\"Courier New\", 18, \"normal\"))\n",
    "            \n",
    "            # Draw bottom right\n",
    "            pen.goto(x+30, y-60)\n",
    "            pen.write(self.name, False, font=(\"Courier New\", 18, \"normal\"))\n",
    "            pen.goto(x+30, y-80)\n",
    "            pen.write(self.symbols[self.suit], False, font=(\"Courier New\", 18, \"normal\"))\n",
    "            \n",
    "class Deck():\n",
    "    def __init__(self):\n",
    "        self.cards = []\n",
    "        \n",
    "        names = (\"A\", \"K\", \"Q\", \"J\", \"T\", \"9\", \"8\", \"7\", \"6\", \"5\", \"4\", \"3\", \"2\")\n",
    "        suits = (\"D\", \"C\", \"H\", \"S\")\n",
    "        \n",
    "        for name in names:\n",
    "            for suit in suits:\n",
    "                card = Card(name, suit)\n",
    "                self.cards.append(card)\n",
    "\n",
    "    def shuffle(self):\n",
    "        random.shuffle(self.cards)\n",
    "\n",
    "    def get_card(self):\n",
    "        card = self.cards.pop()\n",
    "        return card\n",
    "        \n",
    "    def reset(self):\n",
    "        self.cards = []\n",
    "        \n",
    "        names = (\"A\", \"K\", \"Q\", \"J\", \"T\", \"9\", \"8\", \"7\", \"6\", \"5\", \"4\", \"3\", \"2\")\n",
    "        suits = (\"D\", \"C\", \"H\", \"S\")\n",
    "        \n",
    "        for name in names:\n",
    "            for suit in suits:\n",
    "                card = Card(name, suit)\n",
    "                self.cards.append(card)\n",
    "        \n",
    "        self.shuffle()\n",
    "        \n",
    "# Create deck                \n",
    "deck = Deck()\n",
    "\n",
    "# Shuffle deck\n",
    "deck.reset()\n",
    "\n",
    "# Render 5 cards (back) in a row\n",
    "start_x = -250\n",
    "for x in range(5):\n",
    "    card = Card(\"\", \"\")\n",
    "    card.render(start_x + x * 125, 0, pen)\n",
    "\n",
    "time.sleep(5)\n",
    "\n",
    "# Render 5 cards in a row\n",
    "start_x = -250\n",
    "for x in range(5):\n",
    "    card = deck.get_card()\n",
    "    card.render(start_x + x * 125, 0, pen)\n",
    "\n",
    "wn.mainloop()"
   ]
  },
  {
   "cell_type": "code",
   "execution_count": null,
   "id": "seeing-calgary",
   "metadata": {},
   "outputs": [],
   "source": [
    "print(\"6. Design and implement an experiment to do benchmark comparisons of the two queue(enqueue,dequeue) implementations. What can you learn from such an experiment?\")"
   ]
  },
  {
   "cell_type": "code",
   "execution_count": 2,
   "id": "rubber-china",
   "metadata": {},
   "outputs": [
    {
     "name": "stdout",
     "output_type": "stream",
     "text": [
      "Consider a real life situation. Formulate a question and then design a simulation that can help to answer it. Possible situations include:\n"
     ]
    }
   ],
   "source": [
    "print(\"Consider a real life situation. Formulate a question and then design a simulation that can help to answer it. Possible situations include:\")"
   ]
  },
  {
   "cell_type": "code",
   "execution_count": 12,
   "id": "dramatic-optimum",
   "metadata": {},
   "outputs": [
    {
     "name": "stdout",
     "output_type": "stream",
     "text": [
      "I learned that queue creates a new queue. Also it needs no parameters and returns an empty queue. and Enqueue adds a new item to the rear of the queue. Also, it needs the item and returns nothing. And dequeue removes the front item from the queue. It needs no parameters and retuns the item.\n"
     ]
    }
   ],
   "source": [
    "print (\"I learned that queue creates a new queue. Also it needs no parameters and returns an empty queue. and Enqueue adds a new item to the rear of the queue. Also, it needs the item and returns nothing. And dequeue removes the front item from the queue. It needs no parameters and retuns the item.\") "
   ]
  },
  {
   "cell_type": "code",
   "execution_count": null,
   "id": "postal-maria",
   "metadata": {},
   "outputs": [],
   "source": [
    "class Queue:\n",
    "    def __init__(self):\n",
    "        self.items = []\n",
    "    def is_empty(self): return self.items == []\n",
    "\n",
    "    def enqueue(self, item):\n",
    "        self.items.insert(0,item)\n"
   ]
  },
  {
   "cell_type": "code",
   "execution_count": null,
   "id": "phantom-client",
   "metadata": {},
   "outputs": [],
   "source": [
    "print(\"7. Consider a real life situation. Formulate a question and then design a simulation that can help to answer it. Possible situations include:\")\n"
   ]
  },
  {
   "cell_type": "code",
   "execution_count": 3,
   "id": "prostate-influence",
   "metadata": {},
   "outputs": [
    {
     "name": "stdout",
     "output_type": "stream",
     "text": [
      "-Cars lined up at a car wash\n"
     ]
    }
   ],
   "source": [
    "print(\"-Cars lined up at a car wash\")"
   ]
  },
  {
   "cell_type": "code",
   "execution_count": 4,
   "id": "caroline-myanmar",
   "metadata": {},
   "outputs": [
    {
     "name": "stdout",
     "output_type": "stream",
     "text": [
      "-Customers at a grocery store check-out\n"
     ]
    }
   ],
   "source": [
    "print(\"-Customers at a grocery store check-out\")"
   ]
  },
  {
   "cell_type": "code",
   "execution_count": 5,
   "id": "digital-villa",
   "metadata": {},
   "outputs": [
    {
     "name": "stdout",
     "output_type": "stream",
     "text": [
      "-Airplanes taking off and landing on a runway\n"
     ]
    }
   ],
   "source": [
    "print(\"-Airplanes taking off and landing on a runway\")"
   ]
  },
  {
   "cell_type": "code",
   "execution_count": 6,
   "id": "cubic-tumor",
   "metadata": {},
   "outputs": [
    {
     "name": "stdout",
     "output_type": "stream",
     "text": [
      "A bank teller\n"
     ]
    }
   ],
   "source": [
    "print(\"A bank teller\")"
   ]
  },
  {
   "cell_type": "code",
   "execution_count": 1,
   "id": "infinite-candidate",
   "metadata": {},
   "outputs": [
    {
     "name": "stdout",
     "output_type": "stream",
     "text": [
      "\n",
      "-Cars lined up at a car wash\n"
     ]
    }
   ],
   "source": [
    "print (\"\\n-Cars lined up at a car wash\")"
   ]
  },
  {
   "cell_type": "code",
   "execution_count": 5,
   "id": "touched-japan",
   "metadata": {},
   "outputs": [
    {
     "name": "stdout",
     "output_type": "stream",
     "text": [
      "The car wash machine at ARYANA Clean Car Wash requires exactly 3 minutes to complete the regular car wash (including rinse, wax, and dry). A car arrives at the car wash approximately every four minutes (cars don't arrive exactly four minutes apart: that will be easy to program!). The owners of the car wash are proposing to feature another car wash bay, because they're suspicious that the common wait time for the cars is long enough that they're losing business. Construct a simulation of the car wash to see the common waiting time for a car at the car wash during a typical day (9 am to 7 pm). Since the point is a median, there's often a line. this may be simulated employing a queue.\n"
     ]
    }
   ],
   "source": [
    "print(\"The car wash machine at ARYANA Clean Car Wash requires exactly 3 minutes to complete the regular car wash (including rinse, wax, and dry). A car arrives at the car wash approximately every four minutes (cars don't arrive exactly four minutes apart: that will be easy to program!). The owners of the car wash are proposing to feature another car wash bay, because they're suspicious that the common wait time for the cars is long enough that they're losing business. Construct a simulation of the car wash to see the common waiting time for a car at the car wash during a typical day (9 am to 7 pm). Since the point is a median, there's often a line. this may be simulated employing a queue.\")"
   ]
  },
  {
   "cell_type": "code",
   "execution_count": 3,
   "id": "informed-switch",
   "metadata": {},
   "outputs": [
    {
     "name": "stdout",
     "output_type": "stream",
     "text": [
      "Think about how you would possibly approach simulating this problem. How could you simulate the arrivals, waiting, and washing of the cars at the car wash?\n"
     ]
    }
   ],
   "source": [
    "print(\"Think about how you would possibly approach simulating this problem. How could you simulate the arrivals, waiting, and washing of the cars at the car wash?\")"
   ]
  },
  {
   "cell_type": "code",
   "execution_count": 4,
   "id": "infrared-protein",
   "metadata": {},
   "outputs": [
    {
     "name": "stdout",
     "output_type": "stream",
     "text": [
      "Perhaps it might be useful to consider what can happen in a very given minute within the car wash (we'll assume that at the most one car can arrive in any given minute, although this can be not necessary). in an exceedingly car wash, you'll be able to have cars arriving, cars waiting, and cars being washed. you furthermore mght have cars changing from one state to a different. If a car arrives and there's a car being washed, the arrival car becomes a waiting car. If there's a minimum of one car waiting and also the car wash bay becomes available, a waiting car becomes a car being washed.\n"
     ]
    }
   ],
   "source": [
    "print(\"Perhaps it might be useful to consider what can happen in a very given minute within the car wash (we'll assume that at the most one car can arrive in any given minute, although this can be not necessary). in an exceedingly car wash, you'll be able to have cars arriving, cars waiting, and cars being washed. you furthermore mght have cars changing from one state to a different. If a car arrives and there's a car being washed, the arrival car becomes a waiting car. If there's a minimum of one car waiting and also the car wash bay becomes available, a waiting car becomes a car being washed.\")"
   ]
  },
  {
   "cell_type": "code",
   "execution_count": 6,
   "id": "corrected-laptop",
   "metadata": {},
   "outputs": [
    {
     "name": "stdout",
     "output_type": "stream",
     "text": [
      "The output of the program should be:\n"
     ]
    }
   ],
   "source": [
    "print(\"The output of the program should be:\")"
   ]
  },
  {
   "cell_type": "code",
   "execution_count": null,
   "id": "occupational-breakfast",
   "metadata": {},
   "outputs": [],
   "source": [
    "print(\"car wash machine - ARYANA Clean Car Wash - minutes\")"
   ]
  },
  {
   "cell_type": "code",
   "execution_count": null,
   "id": "timely-championship",
   "metadata": {},
   "outputs": [],
   "source": [
    "print(\"car - owners - car wash boy\")"
   ]
  },
  {
   "cell_type": "code",
   "execution_count": null,
   "id": "strong-vienna",
   "metadata": {},
   "outputs": [],
   "source": [
    "print(\"average waiting time - lost business - simulation\")"
   ]
  },
  {
   "cell_type": "code",
   "execution_count": null,
   "id": "common-conference",
   "metadata": {},
   "outputs": [],
   "source": [
    "print(\"day - arrival time - waiting line (queue)\")"
   ]
  },
  {
   "cell_type": "code",
   "execution_count": null,
   "id": "greater-thong",
   "metadata": {},
   "outputs": [],
   "source": [
    "print(\"\\n-Customers at a grocery store check-out\")"
   ]
  },
  {
   "cell_type": "code",
   "execution_count": 7,
   "id": "green-montgomery",
   "metadata": {
    "scrolled": true
   },
   "outputs": [
    {
     "name": "stdout",
     "output_type": "stream",
     "text": [
      "Customers enter at the end of the line and exit from the front of the line when they are served by the checkout clerk. It is like a line at a very fussy store, because customers cannot leave from the middle of the line, or jump ahead to join their spouse or friend.\n"
     ]
    }
   ],
   "source": [
    "print(\"Customers enter at the end of the line and exit from the front of the line when they are served by the checkout clerk. It is like a line at a very fussy store, because customers cannot leave from the middle of the line, or jump ahead to join their spouse or friend.\")\n"
   ]
  },
  {
   "cell_type": "code",
   "execution_count": null,
   "id": "racial-gallery",
   "metadata": {},
   "outputs": [],
   "source": [
    "print(\"\\n -Airplanes taking off and landing on a runway\")"
   ]
  },
  {
   "cell_type": "code",
   "execution_count": 9,
   "id": "binding-ultimate",
   "metadata": {},
   "outputs": [
    {
     "name": "stdout",
     "output_type": "stream",
     "text": [
      "Arriving planes will enter one of the holding pattern queues, where the queues are to be as close in size as possible. When a plane enters a holding queue, it is assigned an integer id number and an integer giving the number of time units the plane can remain in the queue before it must land (because of low fuel level). There is also a queue for takeoffs for each of the three runways.\n"
     ]
    }
   ],
   "source": [
    "print(\"Arriving planes will enter one of the holding pattern queues, where the queues are to be as close in size as possible. When a plane enters a holding queue, it is assigned an integer id number and an integer giving the number of time units the plane can remain in the queue before it must land (because of low fuel level). There is also a queue for takeoffs for each of the three runways.\")"
   ]
  },
  {
   "cell_type": "code",
   "execution_count": 8,
   "id": "agreed-netscape",
   "metadata": {},
   "outputs": [
    {
     "name": "stdout",
     "output_type": "stream",
     "text": [
      "At each time, up to three planes may arrive at the landing queues and up to three planes may arrive at the takeoff queues. Each runway can handle one takeoff or landing at each time slot At each time unit, planes in either landing queue whose airtime has reached zero must be given priority over other landings and takeoffs.. If more than one, then the other runways are also used (at each time, at most three planes can be serviced in this way\n"
     ]
    }
   ],
   "source": [
    "print(\"At each time, up to three planes may arrive at the landing queues and up to three planes may arrive at the takeoff queues. Each runway can handle one takeoff or landing at each time slot At each time unit, planes in either landing queue whose airtime has reached zero must be given priority over other landings and takeoffs.. If more than one, then the other runways are also used (at each time, at most three planes can be serviced in this way\")"
   ]
  },
  {
   "cell_type": "code",
   "execution_count": null,
   "id": "wired-pixel",
   "metadata": {},
   "outputs": [],
   "source": [
    "print(\"\\n A bank teller\")"
   ]
  },
  {
   "cell_type": "code",
   "execution_count": 11,
   "id": "solar-giant",
   "metadata": {},
   "outputs": [
    {
     "name": "stdout",
     "output_type": "stream",
     "text": [
      "There are three tellers working at the bank. Customer 1 arrives at time 35. Since there are no other customers in the bank, all tellers are free and the customer can be serviced immediately. The cusomer's departure time is calculated as 97 (35+62). Customer 2 arrives at time 39, can be serviced immediately, and is scheduled for departure at time 96. Customer 3 arrives at time 78, can be serviced immediately, and is scheduled for departure at time 202. Customer 3 arrives at time 79. Unfortunately, all tellers are busy. At time 96, customer 2 leaves, freeing a teller and customer 4 can be serviced. Customer 4's departure time is scheduled as 128 (96+32).\n"
     ]
    }
   ],
   "source": [
    "print(\"There are three tellers working at the bank. Customer 1 arrives at time 35. Since there are no other customers in the bank, all tellers are free and the customer can be serviced immediately. The cusomer's departure time is calculated as 97 (35+62). Customer 2 arrives at time 39, can be serviced immediately, and is scheduled for departure at time 96. Customer 3 arrives at time 78, can be serviced immediately, and is scheduled for departure at time 202. Customer 3 arrives at time 79. Unfortunately, all tellers are busy. At time 96, customer 2 leaves, freeing a teller and customer 4 can be serviced. Customer 4's departure time is scheduled as 128 (96+32).\")"
   ]
  },
  {
   "cell_type": "code",
   "execution_count": 12,
   "id": "wireless-snapshot",
   "metadata": {},
   "outputs": [
    {
     "name": "stdout",
     "output_type": "stream",
     "text": [
      "The output of the program should be:\n"
     ]
    }
   ],
   "source": [
    "print(\"The output of the program should be:\")"
   ]
  },
  {
   "cell_type": "code",
   "execution_count": null,
   "id": "charged-first",
   "metadata": {},
   "outputs": [],
   "source": [
    "print(\"wait 0 waitandservice 6\")"
   ]
  },
  {
   "cell_type": "code",
   "execution_count": null,
   "id": "level-printer",
   "metadata": {},
   "outputs": [],
   "source": [
    "print(\"wait 0 waitandservice 57\")"
   ]
  },
  {
   "cell_type": "code",
   "execution_count": null,
   "id": "minimal-retreat",
   "metadata": {},
   "outputs": [],
   "source": [
    "print(\"wait 0 waitandservice 124\")"
   ]
  },
  {
   "cell_type": "code",
   "execution_count": null,
   "id": "interesting-cylinder",
   "metadata": {},
   "outputs": [],
   "source": [
    "print(\"wait 17 waitandservice 49\")"
   ]
  },
  {
   "cell_type": "code",
   "execution_count": 11,
   "id": "behavioral-diesel",
   "metadata": {},
   "outputs": [
    {
     "name": "stdout",
     "output_type": "stream",
     "text": [
      "8. Implement a queue using linked lists.\n"
     ]
    }
   ],
   "source": [
    "print(\"8. Implement a queue using linked lists.\")"
   ]
  },
  {
   "cell_type": "code",
   "execution_count": null,
   "id": "mysterious-kitty",
   "metadata": {},
   "outputs": [],
   "source": [
    "class Node:\n",
    "      \n",
    "    def __init__(self, data):\n",
    "        self.data = data\n",
    "        self.next = None\n",
    "  \n",
    "# A class to represent a queue\n",
    "  \n",
    "# The queue, front stores the front node\n",
    "# of LL and rear stores the last node of LL\n",
    "class Queue:\n",
    "      \n",
    "    def __init__(self):\n",
    "        self.front = self.rear = None\n",
    "  \n",
    "    def isEmpty(self):\n",
    "        return self.front == None\n",
    "      \n",
    "    # Method to add an item to the queue\n",
    "    def EnQueue(self, item):\n",
    "        temp = Node(item)\n",
    "          \n",
    "        if self.rear == None:\n",
    "            self.front = self.rear = temp\n",
    "            return\n",
    "        self.rear.next = temp\n",
    "        self.rear = temp\n",
    "  \n",
    "    # Method to remove an item from queue\n",
    "    def DeQueue(self):\n",
    "          \n",
    "        if self.isEmpty():\n",
    "            return\n",
    "        temp = self.front\n",
    "        self.front = temp.next\n",
    "  \n",
    "        if(self.front == None):\n",
    "            self.rear = None\n",
    "  \n",
    "# Driver Code\n",
    "if _name__== '__main_':\n",
    "    q = Queue()\n",
    "    q.EnQueue(10)\n",
    "    q.EnQueue(20)\n",
    "    q.DeQueue()\n",
    "    q.DeQueue()\n",
    "    q.EnQueue(30)\n",
    "    q.EnQueue(40)\n",
    "    q.EnQueue(50) \n",
    "    q.DeQueue()   \n",
    "    print(\"Queue Front \" + str(q.front.data))\n",
    "    print(\"Queue Rear \" + str(q.rear.data))\n"
   ]
  },
  {
   "cell_type": "code",
   "execution_count": null,
   "id": "vietnamese-listing",
   "metadata": {},
   "outputs": [],
   "source": [
    "print (\"9. Write a recursive function to compute the factorial of a number\")"
   ]
  },
  {
   "cell_type": "code",
   "execution_count": null,
   "id": "black-cooking",
   "metadata": {},
   "outputs": [],
   "source": [
    "def recur_factorial(n):  \n",
    "   if n == 1:  \n",
    "       return n  \n",
    "   else:  \n",
    "       return n*recur_factorial(n-1)  \n",
    "# take input from the user  \n",
    "num = int(input(\"Enter a number: \"))  \n",
    "# check is the number is negative  \n",
    "if num < 0:  \n",
    "   print(\"Sorry, factorial does not exist for negative numbers\")  \n",
    "elif num == 0:  \n",
    "   print(\"The factorial of 0 is 1\")  \n",
    "else:  \n",
    "   print(\"The factorial of\",num,\"is\",recur_factorial(num))\n"
   ]
  },
  {
   "cell_type": "code",
   "execution_count": null,
   "id": "premium-commons",
   "metadata": {},
   "outputs": [],
   "source": [
    "print (\"10. Set up a random experiment to test the difference between a sequential search and a binary search on a list of integers. \")"
   ]
  },
  {
   "cell_type": "code",
   "execution_count": null,
   "id": "pregnant-clinic",
   "metadata": {},
   "outputs": [],
   "source": [
    "print (\"In the sequential search, when we compare against the first item, there are at most 𝑛 − 1 more items to look through if the first item is not what we are looking for.\")"
   ]
  },
  {
   "cell_type": "code",
   "execution_count": null,
   "id": "changed-butler",
   "metadata": {},
   "outputs": [],
   "source": [
    "def sequential_search(a_list, item):\n",
    "  pos = 0\n",
    "  found = False\n",
    "\n",
    "  while pos < len(a_list) and not found:\n",
    "    if a_list[pos] == item:\n",
    "      found = True\n",
    "\n",
    "    else:\n",
    "        pos = pos+1\n",
    "\n",
    "  return found\n",
    "\n",
    "test_list = [1, 2, 32, 8, 17, 19, 42, 13, 0]\n"
   ]
  },
  {
   "cell_type": "code",
   "execution_count": null,
   "id": "naughty-austin",
   "metadata": {},
   "outputs": [],
   "source": [
    "print(sequential_search(test_list, 7))"
   ]
  },
  {
   "cell_type": "code",
   "execution_count": null,
   "id": "beginning-calgary",
   "metadata": {},
   "outputs": [],
   "source": [
    "print(sequential_search(test_list, 42))"
   ]
  },
  {
   "cell_type": "code",
   "execution_count": null,
   "id": "unlimited-sending",
   "metadata": {},
   "outputs": [],
   "source": [
    "print (\"11.Suppose you are a computer scientist/art thief who has broken into a major art gallery. All you have with you to haul out your stolen art is your knapsack which only holds W pounds of art, but for every piece of art you know its value and its weight.Write a dynamic programming function to help you maximize your profit. Here is a sample problem for you to use to get started: Suppose your knapsack can hold a total weight of 20. You have 5 items as follows:\")\n"
   ]
  },
  {
   "cell_type": "code",
   "execution_count": null,
   "id": "matched-investor",
   "metadata": {},
   "outputs": [],
   "source": [
    "class StolenItem:\n",
    "    def __init__(self, theID, theValue, theWeight):\n",
    "        self.ID = theID\n",
    "        self.value = theValue\n",
    "        self.weight = theWeight\n",
    "\n",
    "\n",
    "def dpMaxProfit(itemList, knapWeight, maxProfits, weightsUsed):\n",
    "    maxProfit = 0\n",
    "\n",
    "    for knapWeights in range(knapWeight + 1):\n",
    "        print(\"KNAPWEIGHT:\", knapWeights - 1, \" \", maxProfits)\n",
    "        newItem = itemList[0]\n",
    "\n",
    "        for item in [x for x in itemList if x.weight <= knapWeights]:\n",
    "            if maxProfits[knapWeights - item.weight] + item.value > maxProfit:\n",
    "                maxProfit = maxProfits[knapWeights - item.weight] + item.value\n",
    "                newItem = item\n",
    "        maxProfits[knapWeights] = maxProfit\n",
    "        weightsUsed[knapWeights] = newItem.weight\n",
    "\n",
    "    return (maxProfits[knapWeight])\n",
    "\n",
    "\n",
    "def reMaxProfit(itemList, knapWeight):\n",
    "    if knapWeight < 1:\n",
    "        return 0\n",
    "\n",
    "    l1 = [x for x in itemList if x.weight <= knapWeight]\n",
    "    profitList = [(item.value + reMaxProfit(itemList, knapWeight - item.weight)) for item in l1]\n",
    "\n",
    "    if len(profitList) > 0:\n",
    "        return max(profitList)\n",
    "    else:\n",
    "        return 0\n",
    "\n",
    "\n",
    "def _weightsUsed(weightList, knapWeight):\n",
    "    weight = knapWeight\n",
    "    while weight > 0:\n",
    "        print(weightList[weight])\n",
    "        weight -= weightList[weight]\n",
    "\n",
    "\n",
    "recurse = True\n",
    "\n",
    "\n",
    "\n",
    "def main():\n",
    "    itemList = [StolenItem(1, 3, 2), StolenItem(2, 4, 3), StolenItem(3, 8, 4), StolenItem(4, 8, 5),\n",
    "                StolenItem(5, 10, 9)]\n",
    "    knapWeight = 20\n",
    "    if recurse:\n",
    "        maxProfits = [0] * (knapWeight + 1)\n",
    "        weightsUsed = [0] * (knapWeight + 1)\n",
    "        print(dpMaxProfit(itemList, knapWeight, maxProfits, weightsUsed))\n",
    "    else:\n",
    "        print(reMaxProfit(itemList, knapWeight))\n",
    "\n",
    "\n",
    "if _name_ == \"_main_\":\n",
    "    main()\n"
   ]
  }
 ],
 "metadata": {
  "kernelspec": {
   "display_name": "Python 3",
   "language": "python",
   "name": "python3"
  },
  "language_info": {
   "codemirror_mode": {
    "name": "ipython",
    "version": 3
   },
   "file_extension": ".py",
   "mimetype": "text/x-python",
   "name": "python",
   "nbconvert_exporter": "python",
   "pygments_lexer": "ipython3",
   "version": "3.8.6"
  }
 },
 "nbformat": 4,
 "nbformat_minor": 5
}
